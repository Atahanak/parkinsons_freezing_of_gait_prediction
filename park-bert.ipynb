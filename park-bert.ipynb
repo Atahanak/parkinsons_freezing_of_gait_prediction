{
 "cells": [
  {
   "cell_type": "code",
   "execution_count": 8,
   "metadata": {},
   "outputs": [],
   "source": [
    "import os\n",
    "import time"
   ]
  },
  {
   "cell_type": "code",
   "execution_count": 52,
   "metadata": {},
   "outputs": [],
   "source": [
    "from icecream import ic\n",
    "from tqdm.notebook import tqdm\n",
    "import numpy as np\n",
    "import pandas as pd"
   ]
  },
  {
   "cell_type": "code",
   "execution_count": 53,
   "metadata": {},
   "outputs": [],
   "source": [
    "import torch\n",
    "import torch.nn as nn\n",
    "from torch.utils.data import Dataset, DataLoader\n",
    "\n",
    "import pytorch_lightning as pl"
   ]
  },
  {
   "cell_type": "code",
   "execution_count": 35,
   "metadata": {},
   "outputs": [],
   "source": [
    "from sklearn.model_selection import train_test_split, StratifiedGroupKFold\n",
    "from sklearn.metrics import accuracy_score, average_precision_score"
   ]
  },
  {
   "cell_type": "code",
   "execution_count": 49,
   "metadata": {},
   "outputs": [],
   "source": [
    "class Config:\n",
    "    DATA_DIR = '../tlvmc-parkinsons-freezing-gait-prediction/'\n",
    "    TRAIN_DIR = '../tlvmc-parkinsons-freezing-gait-prediction/train/'\n",
    "    TDCSFOG_DIR = '../tlvmc-parkinsons-freezing-gait-prediction/train/tdcsfog/'\n",
    "    DEFOG_DIR = '../tlvmc-parkinsons-freezing-gait-prediction/train/defog/'\n",
    "\n",
    "    batch_size = 2048\n",
    "    window_size = 256\n",
    "    window_future = 32\n",
    "    window_past = window_size - window_future\n",
    "\n",
    "    model_dropout = 0.3\n",
    "    model_hidden = 768\n",
    "    model_nblocks = 2\n",
    "\n",
    "    lr = 0.001\n",
    "    num_epochs = 8\n",
    "    device = 'cuda' if torch.cuda.is_available() else 'cpu'\n",
    "\n",
    "    feature_list = ['AccV', 'AccML', 'AccAP']\n",
    "    label_list = ['StartHesitation', 'Turn', 'Walking']\n",
    "\n",
    "cfg = Config()"
   ]
  },
  {
   "attachments": {},
   "cell_type": "markdown",
   "metadata": {},
   "source": [
    "## Data - Preprocessing"
   ]
  },
  {
   "cell_type": "code",
   "execution_count": 38,
   "metadata": {},
   "outputs": [],
   "source": [
    "class FOGDataset(Dataset):\n",
    "    def __init__(self, fpaths, scale=9.806, test=False):\n",
    "        super(FOGDataset, self).__init__()\n",
    "        tm = time.time()\n",
    "        self.test = test\n",
    "        self.fpaths = fpaths\n",
    "        self.f_ids = [os.path.basename(f)[:-4] for f in self.fpaths]\n",
    "        self.curr_df_idx = 0\n",
    "        self.curr_row_idx = 0\n",
    "        self.dfs = [np.array(pd.read_csv(f)) for f in fpaths]\n",
    "        self.end_indices = []\n",
    "        self.scale = scale\n",
    "        \n",
    "        self.length = 0\n",
    "        for df in self.dfs:\n",
    "            self.length += df.shape[0]\n",
    "            self.end_indices.append(self.length)\n",
    "            \n",
    "        print(f\"Dataset initialized in {time.time() - tm} secs!\")\n",
    "        \n",
    "    def pad(self, df, time_start):\n",
    "        if df.shape[0] == cfg.window_size:\n",
    "            return df\n",
    "        \n",
    "        npad = cfg.window_size - df.shape[0]\n",
    "        padzeros = np.zeros((npad, 3))\n",
    "        if time_start <= 0:\n",
    "            df = np.concatenate((padzeros, df), axis=0)\n",
    "        else:\n",
    "            df = np.concatenate((df, padzeros), axis=0)\n",
    "        return df\n",
    "            \n",
    "    def __getitem__(self, index):\n",
    "        for i,e in enumerate(self.end_indices):\n",
    "            if index >= e:\n",
    "                continue\n",
    "            df_idx = i\n",
    "            break\n",
    "            \n",
    "        curr_df = self.dfs[i]\n",
    "        row_idx = curr_df.shape[0] - (self.end_indices[i] - index)\n",
    "        _id = self.f_ids[i] + \"_\" + str(row_idx)\n",
    "        \n",
    "        x = self.pad(curr_df[row_idx-cfg.window_past:row_idx+cfg.window_future, 1:4], row_idx-cfg.window_past )\n",
    "        x = torch.tensor(x)/self.scale\n",
    "        \n",
    "        if self.test == True:\n",
    "            return _id, x\n",
    "        \n",
    "        y = curr_df[row_idx, -3:].astype('float')\n",
    "        y = torch.tensor(y)\n",
    "        \n",
    "        return x, y\n",
    "    \n",
    "    def __len__(self):\n",
    "        return self.length"
   ]
  },
  {
   "cell_type": "code",
   "execution_count": 39,
   "metadata": {},
   "outputs": [
    {
     "name": "stderr",
     "output_type": "stream",
     "text": [
      "100%|██████████| 833/833 [00:10<00:00, 82.21it/s]"
     ]
    },
    {
     "name": "stdout",
     "output_type": "stream",
     "text": [
      "32 files have positive values in all 3 classes\n",
      "Fold = 0\n",
      "Length of Train = 672, Length of Valid = 161\n",
      "Train classes: 287,832, 1,462,652, 175,633\n",
      "Valid classes: 16,958, 216,130, 32,205\n",
      "Fold = 1\n",
      "Length of Train = 613, Length of Valid = 220\n",
      "Train classes: 51,748, 909,505, 65,242\n",
      "Valid classes: 253,042, 769,277, 142,596\n",
      "Fold = 2\n",
      "Length of Train = 703, Length of Valid = 130\n",
      "Train classes: 271,881, 1,332,746, 183,673\n",
      "Valid classes: 32,909, 346,036, 24,165\n",
      "Fold = 3\n",
      "Length of Train = 649, Length of Valid = 184\n",
      "Train classes: 303,710, 1,517,147, 205,196\n",
      "Valid classes: 1,080, 161,635, 2,642\n",
      "Fold = 4\n",
      "Length of Train = 695, Length of Valid = 138\n",
      "Train classes: 303,989, 1,493,078, 201,608\n",
      "Valid classes: 801, 185,704, 6,230\n"
     ]
    },
    {
     "name": "stderr",
     "output_type": "stream",
     "text": [
      "\n"
     ]
    }
   ],
   "source": [
    "# Analysis of positive instances in each fold of our CV folds\n",
    "\n",
    "SH = []\n",
    "T = []\n",
    "W = []\n",
    "\n",
    "# Here I am using the metadata file available during training. Since the code will run again during submission, if \n",
    "# I used the usual file from the competition folder, it would have been updated with the test files too.\n",
    "metadata = pd.read_csv(\"../tlvmc-parkinsons-freezing-gait-prediction/tdcsfog_metadata.csv\")\n",
    "\n",
    "for f in tqdm(metadata['Id']):\n",
    "    fpath = f\"../tlvmc-parkinsons-freezing-gait-prediction/train/tdcsfog/{f}.csv\"\n",
    "    df = pd.read_csv(fpath)\n",
    "    \n",
    "    SH.append(np.sum(df['StartHesitation']))\n",
    "    T.append(np.sum(df['Turn']))\n",
    "    W.append(np.sum(df['Walking']))\n",
    "    \n",
    "print(f\"32 files have positive values in all 3 classes\")\n",
    "\n",
    "metadata['SH'] = SH\n",
    "metadata['T'] = T\n",
    "metadata['W'] = W\n",
    "\n",
    "sgkf = StratifiedGroupKFold(n_splits=5, random_state=42, shuffle=True)\n",
    "for i, (train_index, valid_index) in enumerate(sgkf.split(X=metadata['Id'], y=[1]*len(metadata), groups=metadata['Subject'])):\n",
    "    print(f\"Fold = {i}\")\n",
    "    train_ids = metadata.loc[train_index, 'Id']\n",
    "    valid_ids = metadata.loc[valid_index, 'Id']\n",
    "    \n",
    "    print(f\"Length of Train = {len(train_ids)}, Length of Valid = {len(valid_ids)}\")\n",
    "    n1_sum = metadata.loc[train_index, 'SH'].sum()\n",
    "    n2_sum = metadata.loc[train_index, 'T'].sum()\n",
    "    n3_sum = metadata.loc[train_index, 'W'].sum()\n",
    "    print(f\"Train classes: {n1_sum:,}, {n2_sum:,}, {n3_sum:,}\")\n",
    "    \n",
    "    n1_sum = metadata.loc[valid_index, 'SH'].sum()\n",
    "    n2_sum = metadata.loc[valid_index, 'T'].sum()\n",
    "    n3_sum = metadata.loc[valid_index, 'W'].sum()\n",
    "    print(f\"Valid classes: {n1_sum:,}, {n2_sum:,}, {n3_sum:,}\")\n",
    "    \n",
    "# # FOLD 2 is the most well balanced"
   ]
  },
  {
   "cell_type": "code",
   "execution_count": 40,
   "metadata": {},
   "outputs": [
    {
     "name": "stdout",
     "output_type": "stream",
     "text": [
      "Fold = 2\n",
      "Length of Train = 703, Length of Valid = 130\n"
     ]
    }
   ],
   "source": [
    "# The actual train-test split (based on Fold 2)\n",
    "\n",
    "metadata = pd.read_csv(DATA_DIR + \"tdcsfog_metadata.csv\")\n",
    "sgkf = StratifiedGroupKFold(n_splits=5, random_state=42, shuffle=True)\n",
    "for i, (train_index, valid_index) in enumerate(sgkf.split(X=metadata['Id'], y=[1]*len(metadata), groups=metadata['Subject'])):\n",
    "    if i != 2:\n",
    "        continue\n",
    "    print(f\"Fold = {i}\")\n",
    "    train_ids = metadata.loc[train_index, 'Id']\n",
    "    valid_ids = metadata.loc[valid_index, 'Id']\n",
    "    print(f\"Length of Train = {len(train_ids)}, Length of Valid = {len(valid_ids)}\")\n",
    "    \n",
    "    if i == 2:\n",
    "        break\n",
    "        \n",
    "train_fpaths = [f\"{DATA_DIR}train/tdcsfog/{_id}.csv\" for _id in train_ids]\n",
    "valid_fpaths = [f\"{DATA_DIR}tlvmc-parkinsons-freezing-gait-prediction/train/tdcsfog/{_id}.csv\" for _id in valid_ids]"
   ]
  },
  {
   "attachments": {},
   "cell_type": "markdown",
   "metadata": {},
   "source": [
    "# TODO: Generalize preprocessing"
   ]
  },
  {
   "cell_type": "code",
   "execution_count": 41,
   "metadata": {},
   "outputs": [
    {
     "name": "stdout",
     "output_type": "stream",
     "text": [
      "Dataset initialized in 8.337650299072266 secs!\n"
     ]
    }
   ],
   "source": [
    "tdcsfog_train = FOGDataset(train_fpaths)\n",
    "tdcsfog_train_loader = DataLoader(tdcsfog_train, batch_size=cfg.batch_size, shuffle=True)"
   ]
  },
  {
   "cell_type": "code",
   "execution_count": 42,
   "metadata": {},
   "outputs": [
    {
     "name": "stderr",
     "output_type": "stream",
     "text": [
      "ic| x.shape: torch.Size([2048, 256, 3])\n",
      "    y.shape: torch.Size([2048, 3])\n"
     ]
    },
    {
     "data": {
      "text/plain": [
       "(torch.Size([2048, 256, 3]), torch.Size([2048, 3]))"
      ]
     },
     "execution_count": 42,
     "metadata": {},
     "output_type": "execute_result"
    }
   ],
   "source": [
    "# get a batch of data from the train loader and plot it\n",
    "x, y = next(iter(tdcsfog_train_loader))\n",
    "ic(x.shape, y.shape)"
   ]
  },
  {
   "attachments": {},
   "cell_type": "markdown",
   "metadata": {},
   "source": [
    "## Model"
   ]
  },
  {
   "cell_type": "code",
   "execution_count": 51,
   "metadata": {},
   "outputs": [],
   "source": [
    "def _block(in_features, out_features, drop_rate):\n",
    "    return nn.Sequential(\n",
    "        nn.Linear(in_features, out_features),\n",
    "        nn.BatchNorm1d(out_features),\n",
    "        nn.ReLU(),\n",
    "        nn.Dropout(drop_rate)\n",
    "    )\n",
    "\n",
    "class FOGModel(nn.Module):\n",
    "    def __init__(self, p=cfg.model_dropout, dim=cfg.model_hidden, nblocks=cfg.model_nblocks):\n",
    "        super(FOGModel, self).__init__()\n",
    "        self.dropout = nn.Dropout(p)\n",
    "        self.in_layer = nn.Linear(cfg.window_size*3, dim)\n",
    "        self.blocks = nn.Sequential(*[_block(dim, dim, p) for _ in range(nblocks)])\n",
    "        self.out_layer = nn.Linear(dim, 3)\n",
    "        \n",
    "    def forward(self, x):\n",
    "        x = x.view(-1, cfg.window_size*3)\n",
    "        x = self.in_layer(x)\n",
    "        for block in self.blocks:\n",
    "            x = block(x)\n",
    "        x = self.out_layer(x)\n",
    "        return x"
   ]
  },
  {
   "cell_type": "code",
   "execution_count": 55,
   "metadata": {},
   "outputs": [],
   "source": [
    "# FIX THIS\n",
    "class Predictor(pl.LightningModule):\n",
    "    def __init__(self):\n",
    "        super(Predictor, self).__init__()\n",
    "        self.model = FOGModel()\n",
    "        self.criterion = nn.BCEWithLogitsLoss()\n",
    "        \n",
    "    def forward(self, x):\n",
    "        return self.model(x)\n",
    "    \n",
    "    @torch.no_grad()\n",
    "    def get_attention_maps(self, x, mask=None, add_positional_encoding=True):\n",
    "        \"\"\"\n",
    "        Function for extracting the attention matrices of the whole Transformer for a single batch.\n",
    "        Input arguments same as the forward pass.\n",
    "        \"\"\"\n",
    "        #needs implementation like the rest of the functions\n",
    "        return attention_maps\n",
    "    \n",
    "    def training_step(self, batch, batch_idx):\n",
    "        x, y = batch\n",
    "        y_hat = self.model(x)\n",
    "        loss = self.criterion(y_hat, y)\n",
    "        self.log('train_loss', loss)\n",
    "        return loss\n",
    "    \n",
    "    def validation_step(self, batch, batch_idx):\n",
    "        x, y = batch\n",
    "        y_hat = self.model(x)\n",
    "        loss = self.criterion(y_hat, y)\n",
    "        self.log('val_loss', loss)\n",
    "        return loss\n",
    "    \n",
    "    def test_step(self, batch, batch_idx):\n",
    "        x, y = batch\n",
    "        y_hat = self.model(x)\n",
    "        loss = self.criterion(y_hat, y)\n",
    "        self.log('test_loss', loss)\n",
    "        return loss\n",
    "    \n",
    "    def configure_optimizers(self):\n",
    "        optimizer = torch.optim.Adam(self.parameters(), lr=cfg.lr)\n",
    "        return optimizer\n",
    "    \n",
    "    def train_dataloader(self):\n",
    "        return DataLoader(tdcsfog_train, batch_size=cfg.batch_size, shuffle=True)\n",
    "    \n",
    "    def val_dataloader(self):\n",
    "        return DataLoader(tdcsfog_valid, batch_size=cfg.batch_size, shuffle=False)\n",
    "    \n",
    "    def test_dataloader(self):\n",
    "        return DataLoader(tdcsfog_test, batch_size=cfg.batch_size, shuffle=False)"
   ]
  },
  {
   "attachments": {},
   "cell_type": "markdown",
   "metadata": {},
   "source": [
    "## Pre - Training"
   ]
  },
  {
   "cell_type": "code",
   "execution_count": null,
   "metadata": {},
   "outputs": [],
   "source": []
  },
  {
   "cell_type": "code",
   "execution_count": null,
   "metadata": {},
   "outputs": [],
   "source": []
  },
  {
   "attachments": {},
   "cell_type": "markdown",
   "metadata": {},
   "source": [
    "## Fine - Tuning"
   ]
  },
  {
   "cell_type": "markdown",
   "metadata": {},
   "source": []
  }
 ],
 "metadata": {
  "kernelspec": {
   "display_name": "parkinson",
   "language": "python",
   "name": "python3"
  },
  "language_info": {
   "codemirror_mode": {
    "name": "ipython",
    "version": 3
   },
   "file_extension": ".py",
   "mimetype": "text/x-python",
   "name": "python",
   "nbconvert_exporter": "python",
   "pygments_lexer": "ipython3",
   "version": "3.10.9"
  },
  "orig_nbformat": 4
 },
 "nbformat": 4,
 "nbformat_minor": 2
}
