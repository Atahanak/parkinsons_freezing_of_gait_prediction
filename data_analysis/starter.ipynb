{
 "cells": [
  {
   "cell_type": "code",
   "execution_count": 1,
   "id": "d7d36721",
   "metadata": {},
   "outputs": [],
   "source": [
    "import os, gc\n",
    "import numpy as np\n",
    "import pandas as pd\n",
    "from collections import deque\n",
    "from sklearn.linear_model import Ridge, LinearRegression\n",
    "from sklearn.cluster import MiniBatchKMeans\n",
    "from sklearn.decomposition import TruncatedSVD\n",
    "from sklearn.model_selection import StratifiedKFold, GroupKFold\n",
    "from sklearn.metrics import average_precision_score"
   ]
  },
  {
   "cell_type": "code",
   "execution_count": 2,
   "id": "67a1af16",
   "metadata": {},
   "outputs": [],
   "source": [
    "train_defog = os.listdir(\"../tlvmc-parkinsons-freezing-gait-prediction/train/defog\")\n",
    "test_defog = os.listdir(\"../tlvmc-parkinsons-freezing-gait-prediction/test/defog\")\n",
    "train_tdcsfog = os.listdir(\"../tlvmc-parkinsons-freezing-gait-prediction/train/tdcsfog\")\n",
    "test_tdcsfog = os.listdir(\"../tlvmc-parkinsons-freezing-gait-prediction/test/tdcsfog\")"
   ]
  },
  {
   "cell_type": "code",
   "execution_count": 3,
   "id": "17f14c18",
   "metadata": {},
   "outputs": [
    {
     "data": {
      "text/plain": [
       "set()"
      ]
     },
     "execution_count": 3,
     "metadata": {},
     "output_type": "execute_result"
    }
   ],
   "source": [
    "set(train_defog) & set(train_tdcsfog)"
   ]
  },
  {
   "cell_type": "code",
   "execution_count": 4,
   "id": "c660f493",
   "metadata": {},
   "outputs": [],
   "source": [
    "if len(set(test_defog) & set(test_tdcsfog)) > 0: # is there?\n",
    "    test_tdcsfog = list(set(test_tdcsfog) - (set(test_defog) & set(test_tdcsfog)))"
   ]
  },
  {
   "cell_type": "code",
   "execution_count": 5,
   "id": "960e7592",
   "metadata": {},
   "outputs": [
    {
     "name": "stdout",
     "output_type": "stream",
     "text": [
      "{'4MW': 1, '4MW-C': 2, 'Hotspot1': 3, 'Hotspot1-C': 4, 'Hotspot2': 5, 'Hotspot2-C': 6, 'MB1': 7, 'MB10': 8, 'MB11': 9, 'MB12': 10, 'MB13': 11, 'MB2a': 12, 'MB2b': 13, 'MB3-L': 14, 'MB3-R': 15, 'MB4': 16, 'MB5': 17, 'MB6': 18, 'MB6-L': 19, 'MB6-R': 20, 'MB7': 21, 'MB8': 22, 'MB9': 23, 'Rest1': 24, 'Rest2': 25, 'TUG-C': 26, 'TUG-DT': 27, 'TUG-ST': 28, 'Turning-C': 29, 'Turning-DT': 30, 'Turning-ST': 31}\n",
      "              Id        Init  Completion     Type  Kinetic\n",
      "0     003f117e14     8.61312     14.7731     Turn      1.0\n",
      "1     009ee11563    11.38470     41.1847     Turn      1.0\n",
      "2     009ee11563    54.66470     58.7847     Turn      1.0\n",
      "3     011322847a    28.09660     30.2966     Turn      1.0\n",
      "4     01d0fe7266    30.31840     31.8784     Turn      1.0\n",
      "...          ...         ...         ...      ...      ...\n",
      "3707  f9fc61ce85   628.56000    631.6650  Walking      0.0\n",
      "3708  f9fc61ce85   782.49800    782.6530  Walking      1.0\n",
      "3709  f9fc61ce85   931.93900    933.4470     Turn      1.0\n",
      "3710  f9fc61ce85   990.85900    991.8580     Turn      0.0\n",
      "3711  f9fc61ce85  1180.46700   1181.2580     Turn      1.0\n",
      "\n",
      "[3712 rows x 5 columns]\n"
     ]
    },
    {
     "data": {
      "text/plain": [
       "31"
      ]
     },
     "execution_count": 5,
     "metadata": {},
     "output_type": "execute_result"
    }
   ],
   "source": [
    "task = pd.read_csv(\"../tlvmc-parkinsons-freezing-gait-prediction/tasks.csv\")\n",
    "task_map = {t:i+1 for i,t in enumerate(sorted(list(set(task.Task.values))))}\n",
    "print(task_map)\n",
    "task[\"TaskId\"] = task.Task.apply(lambda x:task_map[x])\n",
    "events = pd.read_csv(\"../tlvmc-parkinsons-freezing-gait-prediction/events.csv\")\n",
    "print(events)\n",
    "events = events[events.Kinetic==1]\n",
    "subjects = pd.read_csv(\"../tlvmc-parkinsons-freezing-gait-prediction/subjects.csv\")\n",
    "subjects[\"SexId\"] = (subjects.Sex==\"M\").values.astype(np.uint8)\n",
    "subjects = subjects.fillna(0)\n",
    "subjects = subjects.drop([\"Sex\"], axis=1)\n",
    "len(set(task_map.values()))"
   ]
  },
  {
   "cell_type": "code",
   "execution_count": 6,
   "id": "57087206",
   "metadata": {},
   "outputs": [
    {
     "data": {
      "text/plain": [
       "[             Id Subject  Visit  MedicationId\n",
       " 0    02ab235146  ab54e1      2             1\n",
       " 1    02ea782681  bf608b      2             1\n",
       " 2    06414383cf  c0b71e      2             0\n",
       " 3    092b4c1819  b6a627      1             0\n",
       " 4    0a900ed8a2  b7bd52      2             1\n",
       " ..          ...     ...    ...           ...\n",
       " 132  f3a921edee  ce8b0b      1             0\n",
       " 133  f40e8c6ebe  d9529b      1             0\n",
       " 134  f8ddbdd98d  fc1e1b      1             1\n",
       " 135  f9efef91fb  fe5d84      2             0\n",
       " 136  f9fc61ce85  a7d8c0      1             1\n",
       " \n",
       " [137 rows x 4 columns],\n",
       "              Id Subject  Visit  Test  MedicationId\n",
       " 0    003f117e14  13abfd      3     2             1\n",
       " 1    009ee11563  d81e3a      4     2             1\n",
       " 2    011322847a  203e85      2     2             1\n",
       " 3    01d0fe7266  203e85      2     1             0\n",
       " 4    024418ba39  cecfb8     19     3             1\n",
       " ..          ...     ...    ...   ...           ...\n",
       " 828  feba449e1a  47860d     19     1             1\n",
       " 829  ff4f844fd3  43fcae      2     3             1\n",
       " 830  ff53514514  a2a051      2     3             1\n",
       " 831  ff92d9244d  a9e866     20     2             1\n",
       " 832  ffda8fadfd  bae0ce     20     1             0\n",
       " \n",
       " [833 rows x 5 columns]]"
      ]
     },
     "execution_count": 6,
     "metadata": {},
     "output_type": "execute_result"
    }
   ],
   "source": [
    "metadata = [pd.read_csv(\"../tlvmc-parkinsons-freezing-gait-prediction/defog_metadata.csv\"),\n",
    "            pd.read_csv(\"../tlvmc-parkinsons-freezing-gait-prediction/tdcsfog_metadata.csv\")]\n",
    "metadata[0][\"MedicationId\"] = (metadata[0].Medication==\"on\").values.astype(np.uint8)\n",
    "metadata[0] = metadata[0].drop([\"Medication\"], axis=1)\n",
    "metadata[1][\"MedicationId\"] = (metadata[1].Medication==\"on\").values.astype(np.uint8)\n",
    "metadata[1] = metadata[1].drop([\"Medication\"], axis=1)\n",
    "metadata"
   ]
  },
  {
   "cell_type": "code",
   "execution_count": 7,
   "id": "26c4e761",
   "metadata": {},
   "outputs": [
    {
     "data": {
      "text/plain": [
       "['Visit',\n",
       " 'Age',\n",
       " 'YearsSinceDx',\n",
       " 'UPDRSIII_On',\n",
       " 'UPDRSIII_Off',\n",
       " 'NFOGQ',\n",
       " 'SexId']"
      ]
     },
     "execution_count": 7,
     "metadata": {},
     "output_type": "execute_result"
    }
   ],
   "source": [
    "ext_columns = list(subjects.columns)[1:]\n",
    "ext_columns"
   ]
  },
  {
   "cell_type": "code",
   "execution_count": 8,
   "id": "145daa35",
   "metadata": {},
   "outputs": [],
   "source": [
    "def read_csv_with_task(csv):\n",
    "    global task, events, defog_metadata, tdcsfog_metadata\n",
    "    fn = csv.split(\"/\")[-1]\n",
    "    idf = fn.split(\".\")[0]\n",
    "    tdf = task[task.Id==idf]\n",
    "    edf = events[events.Id==idf]\n",
    "    df = pd.read_csv(csv)\n",
    "    taskids = np.zeros(len(df), dtype=np.uint8)\n",
    "    for b,e,t in zip(tdf.Begin,tdf.End,tdf.TaskId):\n",
    "        taskids[int(b):int(e)] = t\n",
    "    for b,e,t in zip(edf.Init,edf.Completion,edf.Type):\n",
    "        if t==\"Turn\":\n",
    "            taskids[int(b):int(e)] = taskids[int(b):int(e)] + 32\n",
    "        else:\n",
    "            taskids[int(b):int(e)] = taskids[int(b):int(e)] + 64\n",
    "    df[\"TaskId\"] = taskids\n",
    "    met = metadata[0 if \"defog\" in csv else 1]\n",
    "    subId = met[met.Id==idf].values.flatten()[1]\n",
    "    sub = subjects[subjects.Subject==subId].mean().values.astype(np.uint8)\n",
    "    for i,c in enumerate(ext_columns):\n",
    "        df[c] = sub[i]\n",
    "    return df"
   ]
  },
  {
   "cell_type": "code",
   "execution_count": 9,
   "id": "8400f0fd",
   "metadata": {},
   "outputs": [],
   "source": [
    "target_cols = [\"StartHesitation\",\"Turn\",\"Walking\"]\n",
    "train_cols = [\"Time\",\"AccV\",\"AccML\",\"AccAP\",\"TaskId\"]+ext_columns"
   ]
  },
  {
   "cell_type": "code",
   "execution_count": 10,
   "id": "e560be20",
   "metadata": {},
   "outputs": [],
   "source": [
    "def feature_engineering(val, clfs, target=None):\n",
    "    # Cluster and Dimensional mapping analysis for each data\n",
    "    if clfs[0] is None:\n",
    "        clfs[0] = MiniBatchKMeans(n_clusters=10, random_state=0, init=\"random\").fit(val[:,1:4])\n",
    "    km = clfs[0].predict(val[:,1:4])\n",
    "    km_oh = np.zeros((val.shape[0],10), dtype=np.uint8) # discrete value change to One-hot\n",
    "    for i in range(10):\n",
    "        idx = np.where(km==0)[0]\n",
    "        km_oh[idx,i] = 1\n",
    "    if clfs[1] is None:\n",
    "        clfs[1] = TruncatedSVD(n_components=2, n_iter=10, random_state=0).fit(val[:,1:4])\n",
    "    svd = clfs[1].transform(val[:,1:4])\n",
    "    # Per-user statistics\n",
    "    print(\"Per-user statistics\")\n",
    "    cp = 0\n",
    "    sp = 0\n",
    "    usrm = np.zeros((val.shape[0], 5*val.shape[1]-10), dtype=np.float16)\n",
    "    for i in range(val.shape[0]):\n",
    "        if cp > val[i,0]:\n",
    "            for t in range(val.shape[1]-2):\n",
    "                usrm[sp:i,5*t] = np.mean(val[sp:i,t+1])\n",
    "                usrm[sp:i,5*t+1] = np.std(val[sp:i,t+1])\n",
    "                usrm[sp:i,5*t+2] = np.max(val[sp:i,t+1])\n",
    "                usrm[sp:i,5*t+3] = np.min(val[sp:i,t+1])\n",
    "                usrm[sp:i,5*t+4] = (i-sp)/val.shape[0]\n",
    "            sp = i\n",
    "        cp = val[i,0]\n",
    "    for t in range(val.shape[1]-2):\n",
    "        usrm[sp:,5*t] = np.mean(val[sp:,t+1])\n",
    "        usrm[sp:,5*t+1] = np.std(val[sp:,t+1])\n",
    "        usrm[sp:,5*t+2] = np.max(val[sp:,t+1])\n",
    "        usrm[sp:,5*t+3] = np.min(val[sp:,t+1])\n",
    "        usrm[sp:,5*t+4] = (val.shape[0]-sp)/val.shape[0]\n",
    "    iskinetic = np.stack([(val[:,4]>=32).astype(np.uint8), (val[:,4]>=64).astype(np.uint8)]).transpose((1,0))\n",
    "    # Cluster and Dimensional mapping analysis for each user/task\n",
    "    print(\"Cluster and Dimensional mapping analysis for each user/task\")\n",
    "    if clfs[2] is None:\n",
    "        clfs[2] = MiniBatchKMeans(n_clusters=10, random_state=0, init=\"random\").fit(usrm)\n",
    "    kmu = clfs[2].predict(usrm)\n",
    "    kmu_oh = np.zeros((val.shape[0],10), dtype=np.uint8) # discrete value change to One-hot\n",
    "    for i in range(10):\n",
    "        idx = np.where(kmu==0)[0]\n",
    "        kmu_oh[idx,i] = 1\n",
    "    del kmu\n",
    "    gc.collect()\n",
    "    if clfs[3] is None:\n",
    "        clfs[3] = TruncatedSVD(n_components=2, n_iter=10, random_state=0).fit(usrm)\n",
    "    svdu = clfs[3].transform(usrm)\n",
    "    gc.collect()\n",
    "    # Merge waypoints\n",
    "    marged = np.hstack([val[:,1:4],km_oh,svd])\n",
    "    # Moving average and variance within the same user\n",
    "    print(\"Moving average and variance within the same user/task\")\n",
    "    wnd = np.zeros((val.shape[0],60), dtype=np.float16)\n",
    "    cp = val[0,0]\n",
    "    window = deque([marged[0,:15]] * 5)\n",
    "    for i in range(val.shape[0]):\n",
    "        if cp > val[i,0]:\n",
    "            window = deque([marged[i,:15]] * 5)\n",
    "        else:\n",
    "            window.popleft()\n",
    "            window.append(marged[i,:15])\n",
    "        cp = val[i,0]\n",
    "        wnd[i] = np.hstack([np.mean(window, axis=0),np.std(window, axis=0),np.min(window, axis=0),np.max(window, axis=0)])\n",
    "    # Analyze the entire merge data\n",
    "    print(\"Analyze the entire merge data\")\n",
    "    usrv = np.hstack([svd,svdu])\n",
    "    if clfs[4] is None:\n",
    "        clfs[4] = [LinearRegression().fit(usrv, target[:,i]) for i in range(3)]\n",
    "    reg = np.stack([clfs[4][i].predict(usrv) for i in range(3)]).transpose((1,0))\n",
    "    del usrv\n",
    "    gc.collect()\n",
    "    if clfs[5] is None:\n",
    "        clfs[5] = TruncatedSVD(n_components=2, n_iter=10, random_state=0).fit(marged)\n",
    "    svdm = clfs[5].transform(marged)\n",
    "    # ext columns\n",
    "    ext = val[:,5:].astype(np.uint8)\n",
    "    # Marge all\n",
    "    return np.hstack([marged,wnd,reg,svdm,usrm,kmu_oh,svdu,iskinetic,ext])"
   ]
  },
  {
   "cell_type": "code",
   "execution_count": 11,
   "id": "6d17675f",
   "metadata": {},
   "outputs": [],
   "source": [
    "#from sklearn.tree import DecisionTreeRegressor\n",
    "def get_regressor(totest=False):\n",
    "    return Ridge(max_iter=1000,random_state=0) #DecisionTreeRegressor(max_leaf_nodes=32, random_state=0)\n",
    "\n",
    "def training(val, target, tsk):\n",
    "    task_grp = tsk % 32\n",
    "    clfs = [get_regressor().fit(val, target)]\n",
    "    for i in range(1,32,1):\n",
    "        index = (task_grp==i)\n",
    "        X, y = val[index], target[index]\n",
    "        if len(X) == 0:\n",
    "            clfs.append(0.0)\n",
    "        elif len(set(y)) <= 1:\n",
    "            clfs.append(float(y[0]))\n",
    "        else:\n",
    "            clfs.append(get_regressor().fit(X, y))\n",
    "    return clfs\n",
    "\n",
    "def predict(clfs, val, tsk):\n",
    "    task_grp = tsk % 32\n",
    "    result = clfs[0].predict(val)\n",
    "    for i,c in enumerate(clfs[1:]):\n",
    "        index = (task_grp==(i+1))\n",
    "        if type(c) is float or type(c) is int:\n",
    "            result[index] = c\n",
    "        else:\n",
    "            X = val[index]\n",
    "            if len(X) > 0:\n",
    "                result[index] = c.predict(X)\n",
    "    return result"
   ]
  },
  {
   "cell_type": "code",
   "execution_count": 12,
   "id": "6ee11520",
   "metadata": {},
   "outputs": [
    {
     "name": "stderr",
     "output_type": "stream",
     "text": [
      "/var/folders/rt/5cyl99fs6rg361lh42b5vlsh0000gn/T/ipykernel_78176/2084710537.py:19: FutureWarning: The default value of numeric_only in DataFrame.mean is deprecated. In a future version, it will default to False. In addition, specifying 'numeric_only=None' is deprecated. Select only valid columns or specify the value of numeric_only to silence this warning.\n",
      "  sub = subjects[subjects.Subject==subId].mean().values.astype(np.uint8)\n",
      "/var/folders/rt/5cyl99fs6rg361lh42b5vlsh0000gn/T/ipykernel_78176/2084710537.py:19: FutureWarning: The default value of numeric_only in DataFrame.mean is deprecated. In a future version, it will default to False. In addition, specifying 'numeric_only=None' is deprecated. Select only valid columns or specify the value of numeric_only to silence this warning.\n",
      "  sub = subjects[subjects.Subject==subId].mean().values.astype(np.uint8)\n",
      "/var/folders/rt/5cyl99fs6rg361lh42b5vlsh0000gn/T/ipykernel_78176/2084710537.py:19: FutureWarning: The default value of numeric_only in DataFrame.mean is deprecated. In a future version, it will default to False. In addition, specifying 'numeric_only=None' is deprecated. Select only valid columns or specify the value of numeric_only to silence this warning.\n",
      "  sub = subjects[subjects.Subject==subId].mean().values.astype(np.uint8)\n",
      "/var/folders/rt/5cyl99fs6rg361lh42b5vlsh0000gn/T/ipykernel_78176/2084710537.py:19: FutureWarning: The default value of numeric_only in DataFrame.mean is deprecated. In a future version, it will default to False. In addition, specifying 'numeric_only=None' is deprecated. Select only valid columns or specify the value of numeric_only to silence this warning.\n",
      "  sub = subjects[subjects.Subject==subId].mean().values.astype(np.uint8)\n",
      "/var/folders/rt/5cyl99fs6rg361lh42b5vlsh0000gn/T/ipykernel_78176/2084710537.py:19: FutureWarning: The default value of numeric_only in DataFrame.mean is deprecated. In a future version, it will default to False. In addition, specifying 'numeric_only=None' is deprecated. Select only valid columns or specify the value of numeric_only to silence this warning.\n",
      "  sub = subjects[subjects.Subject==subId].mean().values.astype(np.uint8)\n",
      "/var/folders/rt/5cyl99fs6rg361lh42b5vlsh0000gn/T/ipykernel_78176/2084710537.py:19: FutureWarning: The default value of numeric_only in DataFrame.mean is deprecated. In a future version, it will default to False. In addition, specifying 'numeric_only=None' is deprecated. Select only valid columns or specify the value of numeric_only to silence this warning.\n",
      "  sub = subjects[subjects.Subject==subId].mean().values.astype(np.uint8)\n",
      "/var/folders/rt/5cyl99fs6rg361lh42b5vlsh0000gn/T/ipykernel_78176/2084710537.py:19: FutureWarning: The default value of numeric_only in DataFrame.mean is deprecated. In a future version, it will default to False. In addition, specifying 'numeric_only=None' is deprecated. Select only valid columns or specify the value of numeric_only to silence this warning.\n",
      "  sub = subjects[subjects.Subject==subId].mean().values.astype(np.uint8)\n",
      "/var/folders/rt/5cyl99fs6rg361lh42b5vlsh0000gn/T/ipykernel_78176/2084710537.py:19: FutureWarning: The default value of numeric_only in DataFrame.mean is deprecated. In a future version, it will default to False. In addition, specifying 'numeric_only=None' is deprecated. Select only valid columns or specify the value of numeric_only to silence this warning.\n",
      "  sub = subjects[subjects.Subject==subId].mean().values.astype(np.uint8)\n",
      "/var/folders/rt/5cyl99fs6rg361lh42b5vlsh0000gn/T/ipykernel_78176/2084710537.py:19: FutureWarning: The default value of numeric_only in DataFrame.mean is deprecated. In a future version, it will default to False. In addition, specifying 'numeric_only=None' is deprecated. Select only valid columns or specify the value of numeric_only to silence this warning.\n",
      "  sub = subjects[subjects.Subject==subId].mean().values.astype(np.uint8)\n",
      "/var/folders/rt/5cyl99fs6rg361lh42b5vlsh0000gn/T/ipykernel_78176/2084710537.py:19: FutureWarning: The default value of numeric_only in DataFrame.mean is deprecated. In a future version, it will default to False. In addition, specifying 'numeric_only=None' is deprecated. Select only valid columns or specify the value of numeric_only to silence this warning.\n",
      "  sub = subjects[subjects.Subject==subId].mean().values.astype(np.uint8)\n",
      "/var/folders/rt/5cyl99fs6rg361lh42b5vlsh0000gn/T/ipykernel_78176/2084710537.py:19: FutureWarning: The default value of numeric_only in DataFrame.mean is deprecated. In a future version, it will default to False. In addition, specifying 'numeric_only=None' is deprecated. Select only valid columns or specify the value of numeric_only to silence this warning.\n",
      "  sub = subjects[subjects.Subject==subId].mean().values.astype(np.uint8)\n",
      "/var/folders/rt/5cyl99fs6rg361lh42b5vlsh0000gn/T/ipykernel_78176/2084710537.py:19: FutureWarning: The default value of numeric_only in DataFrame.mean is deprecated. In a future version, it will default to False. In addition, specifying 'numeric_only=None' is deprecated. Select only valid columns or specify the value of numeric_only to silence this warning.\n",
      "  sub = subjects[subjects.Subject==subId].mean().values.astype(np.uint8)\n",
      "/var/folders/rt/5cyl99fs6rg361lh42b5vlsh0000gn/T/ipykernel_78176/2084710537.py:19: FutureWarning: The default value of numeric_only in DataFrame.mean is deprecated. In a future version, it will default to False. In addition, specifying 'numeric_only=None' is deprecated. Select only valid columns or specify the value of numeric_only to silence this warning.\n",
      "  sub = subjects[subjects.Subject==subId].mean().values.astype(np.uint8)\n",
      "/var/folders/rt/5cyl99fs6rg361lh42b5vlsh0000gn/T/ipykernel_78176/2084710537.py:19: FutureWarning: The default value of numeric_only in DataFrame.mean is deprecated. In a future version, it will default to False. In addition, specifying 'numeric_only=None' is deprecated. Select only valid columns or specify the value of numeric_only to silence this warning.\n",
      "  sub = subjects[subjects.Subject==subId].mean().values.astype(np.uint8)\n",
      "/var/folders/rt/5cyl99fs6rg361lh42b5vlsh0000gn/T/ipykernel_78176/2084710537.py:19: FutureWarning: The default value of numeric_only in DataFrame.mean is deprecated. In a future version, it will default to False. In addition, specifying 'numeric_only=None' is deprecated. Select only valid columns or specify the value of numeric_only to silence this warning.\n",
      "  sub = subjects[subjects.Subject==subId].mean().values.astype(np.uint8)\n",
      "/var/folders/rt/5cyl99fs6rg361lh42b5vlsh0000gn/T/ipykernel_78176/2084710537.py:19: FutureWarning: The default value of numeric_only in DataFrame.mean is deprecated. In a future version, it will default to False. In addition, specifying 'numeric_only=None' is deprecated. Select only valid columns or specify the value of numeric_only to silence this warning.\n",
      "  sub = subjects[subjects.Subject==subId].mean().values.astype(np.uint8)\n",
      "/var/folders/rt/5cyl99fs6rg361lh42b5vlsh0000gn/T/ipykernel_78176/2084710537.py:19: FutureWarning: The default value of numeric_only in DataFrame.mean is deprecated. In a future version, it will default to False. In addition, specifying 'numeric_only=None' is deprecated. Select only valid columns or specify the value of numeric_only to silence this warning.\n",
      "  sub = subjects[subjects.Subject==subId].mean().values.astype(np.uint8)\n",
      "/var/folders/rt/5cyl99fs6rg361lh42b5vlsh0000gn/T/ipykernel_78176/2084710537.py:19: FutureWarning: The default value of numeric_only in DataFrame.mean is deprecated. In a future version, it will default to False. In addition, specifying 'numeric_only=None' is deprecated. Select only valid columns or specify the value of numeric_only to silence this warning.\n",
      "  sub = subjects[subjects.Subject==subId].mean().values.astype(np.uint8)\n",
      "/var/folders/rt/5cyl99fs6rg361lh42b5vlsh0000gn/T/ipykernel_78176/2084710537.py:19: FutureWarning: The default value of numeric_only in DataFrame.mean is deprecated. In a future version, it will default to False. In addition, specifying 'numeric_only=None' is deprecated. Select only valid columns or specify the value of numeric_only to silence this warning.\n",
      "  sub = subjects[subjects.Subject==subId].mean().values.astype(np.uint8)\n"
     ]
    },
    {
     "name": "stderr",
     "output_type": "stream",
     "text": [
      "/var/folders/rt/5cyl99fs6rg361lh42b5vlsh0000gn/T/ipykernel_78176/2084710537.py:19: FutureWarning: The default value of numeric_only in DataFrame.mean is deprecated. In a future version, it will default to False. In addition, specifying 'numeric_only=None' is deprecated. Select only valid columns or specify the value of numeric_only to silence this warning.\n",
      "  sub = subjects[subjects.Subject==subId].mean().values.astype(np.uint8)\n",
      "/var/folders/rt/5cyl99fs6rg361lh42b5vlsh0000gn/T/ipykernel_78176/2084710537.py:19: FutureWarning: The default value of numeric_only in DataFrame.mean is deprecated. In a future version, it will default to False. In addition, specifying 'numeric_only=None' is deprecated. Select only valid columns or specify the value of numeric_only to silence this warning.\n",
      "  sub = subjects[subjects.Subject==subId].mean().values.astype(np.uint8)\n",
      "/var/folders/rt/5cyl99fs6rg361lh42b5vlsh0000gn/T/ipykernel_78176/2084710537.py:19: FutureWarning: The default value of numeric_only in DataFrame.mean is deprecated. In a future version, it will default to False. In addition, specifying 'numeric_only=None' is deprecated. Select only valid columns or specify the value of numeric_only to silence this warning.\n",
      "  sub = subjects[subjects.Subject==subId].mean().values.astype(np.uint8)\n",
      "/var/folders/rt/5cyl99fs6rg361lh42b5vlsh0000gn/T/ipykernel_78176/2084710537.py:19: FutureWarning: The default value of numeric_only in DataFrame.mean is deprecated. In a future version, it will default to False. In addition, specifying 'numeric_only=None' is deprecated. Select only valid columns or specify the value of numeric_only to silence this warning.\n",
      "  sub = subjects[subjects.Subject==subId].mean().values.astype(np.uint8)\n",
      "/var/folders/rt/5cyl99fs6rg361lh42b5vlsh0000gn/T/ipykernel_78176/2084710537.py:19: FutureWarning: The default value of numeric_only in DataFrame.mean is deprecated. In a future version, it will default to False. In addition, specifying 'numeric_only=None' is deprecated. Select only valid columns or specify the value of numeric_only to silence this warning.\n",
      "  sub = subjects[subjects.Subject==subId].mean().values.astype(np.uint8)\n",
      "/var/folders/rt/5cyl99fs6rg361lh42b5vlsh0000gn/T/ipykernel_78176/2084710537.py:19: FutureWarning: The default value of numeric_only in DataFrame.mean is deprecated. In a future version, it will default to False. In addition, specifying 'numeric_only=None' is deprecated. Select only valid columns or specify the value of numeric_only to silence this warning.\n",
      "  sub = subjects[subjects.Subject==subId].mean().values.astype(np.uint8)\n",
      "/var/folders/rt/5cyl99fs6rg361lh42b5vlsh0000gn/T/ipykernel_78176/2084710537.py:19: FutureWarning: The default value of numeric_only in DataFrame.mean is deprecated. In a future version, it will default to False. In addition, specifying 'numeric_only=None' is deprecated. Select only valid columns or specify the value of numeric_only to silence this warning.\n",
      "  sub = subjects[subjects.Subject==subId].mean().values.astype(np.uint8)\n",
      "/var/folders/rt/5cyl99fs6rg361lh42b5vlsh0000gn/T/ipykernel_78176/2084710537.py:19: FutureWarning: The default value of numeric_only in DataFrame.mean is deprecated. In a future version, it will default to False. In addition, specifying 'numeric_only=None' is deprecated. Select only valid columns or specify the value of numeric_only to silence this warning.\n",
      "  sub = subjects[subjects.Subject==subId].mean().values.astype(np.uint8)\n",
      "/var/folders/rt/5cyl99fs6rg361lh42b5vlsh0000gn/T/ipykernel_78176/2084710537.py:19: FutureWarning: The default value of numeric_only in DataFrame.mean is deprecated. In a future version, it will default to False. In addition, specifying 'numeric_only=None' is deprecated. Select only valid columns or specify the value of numeric_only to silence this warning.\n",
      "  sub = subjects[subjects.Subject==subId].mean().values.astype(np.uint8)\n",
      "/var/folders/rt/5cyl99fs6rg361lh42b5vlsh0000gn/T/ipykernel_78176/2084710537.py:19: FutureWarning: The default value of numeric_only in DataFrame.mean is deprecated. In a future version, it will default to False. In addition, specifying 'numeric_only=None' is deprecated. Select only valid columns or specify the value of numeric_only to silence this warning.\n",
      "  sub = subjects[subjects.Subject==subId].mean().values.astype(np.uint8)\n",
      "/var/folders/rt/5cyl99fs6rg361lh42b5vlsh0000gn/T/ipykernel_78176/2084710537.py:19: FutureWarning: The default value of numeric_only in DataFrame.mean is deprecated. In a future version, it will default to False. In addition, specifying 'numeric_only=None' is deprecated. Select only valid columns or specify the value of numeric_only to silence this warning.\n",
      "  sub = subjects[subjects.Subject==subId].mean().values.astype(np.uint8)\n",
      "/var/folders/rt/5cyl99fs6rg361lh42b5vlsh0000gn/T/ipykernel_78176/2084710537.py:19: FutureWarning: The default value of numeric_only in DataFrame.mean is deprecated. In a future version, it will default to False. In addition, specifying 'numeric_only=None' is deprecated. Select only valid columns or specify the value of numeric_only to silence this warning.\n",
      "  sub = subjects[subjects.Subject==subId].mean().values.astype(np.uint8)\n",
      "/var/folders/rt/5cyl99fs6rg361lh42b5vlsh0000gn/T/ipykernel_78176/2084710537.py:19: FutureWarning: The default value of numeric_only in DataFrame.mean is deprecated. In a future version, it will default to False. In addition, specifying 'numeric_only=None' is deprecated. Select only valid columns or specify the value of numeric_only to silence this warning.\n",
      "  sub = subjects[subjects.Subject==subId].mean().values.astype(np.uint8)\n",
      "/var/folders/rt/5cyl99fs6rg361lh42b5vlsh0000gn/T/ipykernel_78176/2084710537.py:19: FutureWarning: The default value of numeric_only in DataFrame.mean is deprecated. In a future version, it will default to False. In addition, specifying 'numeric_only=None' is deprecated. Select only valid columns or specify the value of numeric_only to silence this warning.\n",
      "  sub = subjects[subjects.Subject==subId].mean().values.astype(np.uint8)\n",
      "/var/folders/rt/5cyl99fs6rg361lh42b5vlsh0000gn/T/ipykernel_78176/2084710537.py:19: FutureWarning: The default value of numeric_only in DataFrame.mean is deprecated. In a future version, it will default to False. In addition, specifying 'numeric_only=None' is deprecated. Select only valid columns or specify the value of numeric_only to silence this warning.\n",
      "  sub = subjects[subjects.Subject==subId].mean().values.astype(np.uint8)\n",
      "/var/folders/rt/5cyl99fs6rg361lh42b5vlsh0000gn/T/ipykernel_78176/2084710537.py:19: FutureWarning: The default value of numeric_only in DataFrame.mean is deprecated. In a future version, it will default to False. In addition, specifying 'numeric_only=None' is deprecated. Select only valid columns or specify the value of numeric_only to silence this warning.\n",
      "  sub = subjects[subjects.Subject==subId].mean().values.astype(np.uint8)\n",
      "/var/folders/rt/5cyl99fs6rg361lh42b5vlsh0000gn/T/ipykernel_78176/2084710537.py:19: FutureWarning: The default value of numeric_only in DataFrame.mean is deprecated. In a future version, it will default to False. In addition, specifying 'numeric_only=None' is deprecated. Select only valid columns or specify the value of numeric_only to silence this warning.\n",
      "  sub = subjects[subjects.Subject==subId].mean().values.astype(np.uint8)\n",
      "/var/folders/rt/5cyl99fs6rg361lh42b5vlsh0000gn/T/ipykernel_78176/2084710537.py:19: FutureWarning: The default value of numeric_only in DataFrame.mean is deprecated. In a future version, it will default to False. In addition, specifying 'numeric_only=None' is deprecated. Select only valid columns or specify the value of numeric_only to silence this warning.\n",
      "  sub = subjects[subjects.Subject==subId].mean().values.astype(np.uint8)\n",
      "/var/folders/rt/5cyl99fs6rg361lh42b5vlsh0000gn/T/ipykernel_78176/2084710537.py:19: FutureWarning: The default value of numeric_only in DataFrame.mean is deprecated. In a future version, it will default to False. In addition, specifying 'numeric_only=None' is deprecated. Select only valid columns or specify the value of numeric_only to silence this warning.\n",
      "  sub = subjects[subjects.Subject==subId].mean().values.astype(np.uint8)\n"
     ]
    },
    {
     "name": "stderr",
     "output_type": "stream",
     "text": [
      "/var/folders/rt/5cyl99fs6rg361lh42b5vlsh0000gn/T/ipykernel_78176/2084710537.py:19: FutureWarning: The default value of numeric_only in DataFrame.mean is deprecated. In a future version, it will default to False. In addition, specifying 'numeric_only=None' is deprecated. Select only valid columns or specify the value of numeric_only to silence this warning.\n",
      "  sub = subjects[subjects.Subject==subId].mean().values.astype(np.uint8)\n",
      "/var/folders/rt/5cyl99fs6rg361lh42b5vlsh0000gn/T/ipykernel_78176/2084710537.py:19: FutureWarning: The default value of numeric_only in DataFrame.mean is deprecated. In a future version, it will default to False. In addition, specifying 'numeric_only=None' is deprecated. Select only valid columns or specify the value of numeric_only to silence this warning.\n",
      "  sub = subjects[subjects.Subject==subId].mean().values.astype(np.uint8)\n",
      "/var/folders/rt/5cyl99fs6rg361lh42b5vlsh0000gn/T/ipykernel_78176/2084710537.py:19: FutureWarning: The default value of numeric_only in DataFrame.mean is deprecated. In a future version, it will default to False. In addition, specifying 'numeric_only=None' is deprecated. Select only valid columns or specify the value of numeric_only to silence this warning.\n",
      "  sub = subjects[subjects.Subject==subId].mean().values.astype(np.uint8)\n",
      "/var/folders/rt/5cyl99fs6rg361lh42b5vlsh0000gn/T/ipykernel_78176/2084710537.py:19: FutureWarning: The default value of numeric_only in DataFrame.mean is deprecated. In a future version, it will default to False. In addition, specifying 'numeric_only=None' is deprecated. Select only valid columns or specify the value of numeric_only to silence this warning.\n",
      "  sub = subjects[subjects.Subject==subId].mean().values.astype(np.uint8)\n",
      "/var/folders/rt/5cyl99fs6rg361lh42b5vlsh0000gn/T/ipykernel_78176/2084710537.py:19: FutureWarning: The default value of numeric_only in DataFrame.mean is deprecated. In a future version, it will default to False. In addition, specifying 'numeric_only=None' is deprecated. Select only valid columns or specify the value of numeric_only to silence this warning.\n",
      "  sub = subjects[subjects.Subject==subId].mean().values.astype(np.uint8)\n",
      "/var/folders/rt/5cyl99fs6rg361lh42b5vlsh0000gn/T/ipykernel_78176/2084710537.py:19: FutureWarning: The default value of numeric_only in DataFrame.mean is deprecated. In a future version, it will default to False. In addition, specifying 'numeric_only=None' is deprecated. Select only valid columns or specify the value of numeric_only to silence this warning.\n",
      "  sub = subjects[subjects.Subject==subId].mean().values.astype(np.uint8)\n",
      "/var/folders/rt/5cyl99fs6rg361lh42b5vlsh0000gn/T/ipykernel_78176/2084710537.py:19: FutureWarning: The default value of numeric_only in DataFrame.mean is deprecated. In a future version, it will default to False. In addition, specifying 'numeric_only=None' is deprecated. Select only valid columns or specify the value of numeric_only to silence this warning.\n",
      "  sub = subjects[subjects.Subject==subId].mean().values.astype(np.uint8)\n",
      "/var/folders/rt/5cyl99fs6rg361lh42b5vlsh0000gn/T/ipykernel_78176/2084710537.py:19: FutureWarning: The default value of numeric_only in DataFrame.mean is deprecated. In a future version, it will default to False. In addition, specifying 'numeric_only=None' is deprecated. Select only valid columns or specify the value of numeric_only to silence this warning.\n",
      "  sub = subjects[subjects.Subject==subId].mean().values.astype(np.uint8)\n",
      "/var/folders/rt/5cyl99fs6rg361lh42b5vlsh0000gn/T/ipykernel_78176/2084710537.py:19: FutureWarning: The default value of numeric_only in DataFrame.mean is deprecated. In a future version, it will default to False. In addition, specifying 'numeric_only=None' is deprecated. Select only valid columns or specify the value of numeric_only to silence this warning.\n",
      "  sub = subjects[subjects.Subject==subId].mean().values.astype(np.uint8)\n",
      "/var/folders/rt/5cyl99fs6rg361lh42b5vlsh0000gn/T/ipykernel_78176/2084710537.py:19: FutureWarning: The default value of numeric_only in DataFrame.mean is deprecated. In a future version, it will default to False. In addition, specifying 'numeric_only=None' is deprecated. Select only valid columns or specify the value of numeric_only to silence this warning.\n",
      "  sub = subjects[subjects.Subject==subId].mean().values.astype(np.uint8)\n",
      "/var/folders/rt/5cyl99fs6rg361lh42b5vlsh0000gn/T/ipykernel_78176/2084710537.py:19: FutureWarning: The default value of numeric_only in DataFrame.mean is deprecated. In a future version, it will default to False. In addition, specifying 'numeric_only=None' is deprecated. Select only valid columns or specify the value of numeric_only to silence this warning.\n",
      "  sub = subjects[subjects.Subject==subId].mean().values.astype(np.uint8)\n",
      "/var/folders/rt/5cyl99fs6rg361lh42b5vlsh0000gn/T/ipykernel_78176/2084710537.py:19: FutureWarning: The default value of numeric_only in DataFrame.mean is deprecated. In a future version, it will default to False. In addition, specifying 'numeric_only=None' is deprecated. Select only valid columns or specify the value of numeric_only to silence this warning.\n",
      "  sub = subjects[subjects.Subject==subId].mean().values.astype(np.uint8)\n",
      "/var/folders/rt/5cyl99fs6rg361lh42b5vlsh0000gn/T/ipykernel_78176/2084710537.py:19: FutureWarning: The default value of numeric_only in DataFrame.mean is deprecated. In a future version, it will default to False. In addition, specifying 'numeric_only=None' is deprecated. Select only valid columns or specify the value of numeric_only to silence this warning.\n",
      "  sub = subjects[subjects.Subject==subId].mean().values.astype(np.uint8)\n",
      "/var/folders/rt/5cyl99fs6rg361lh42b5vlsh0000gn/T/ipykernel_78176/2084710537.py:19: FutureWarning: The default value of numeric_only in DataFrame.mean is deprecated. In a future version, it will default to False. In addition, specifying 'numeric_only=None' is deprecated. Select only valid columns or specify the value of numeric_only to silence this warning.\n",
      "  sub = subjects[subjects.Subject==subId].mean().values.astype(np.uint8)\n",
      "/var/folders/rt/5cyl99fs6rg361lh42b5vlsh0000gn/T/ipykernel_78176/2084710537.py:19: FutureWarning: The default value of numeric_only in DataFrame.mean is deprecated. In a future version, it will default to False. In addition, specifying 'numeric_only=None' is deprecated. Select only valid columns or specify the value of numeric_only to silence this warning.\n",
      "  sub = subjects[subjects.Subject==subId].mean().values.astype(np.uint8)\n",
      "/var/folders/rt/5cyl99fs6rg361lh42b5vlsh0000gn/T/ipykernel_78176/2084710537.py:19: FutureWarning: The default value of numeric_only in DataFrame.mean is deprecated. In a future version, it will default to False. In addition, specifying 'numeric_only=None' is deprecated. Select only valid columns or specify the value of numeric_only to silence this warning.\n",
      "  sub = subjects[subjects.Subject==subId].mean().values.astype(np.uint8)\n",
      "/var/folders/rt/5cyl99fs6rg361lh42b5vlsh0000gn/T/ipykernel_78176/2084710537.py:19: FutureWarning: The default value of numeric_only in DataFrame.mean is deprecated. In a future version, it will default to False. In addition, specifying 'numeric_only=None' is deprecated. Select only valid columns or specify the value of numeric_only to silence this warning.\n",
      "  sub = subjects[subjects.Subject==subId].mean().values.astype(np.uint8)\n",
      "/var/folders/rt/5cyl99fs6rg361lh42b5vlsh0000gn/T/ipykernel_78176/2084710537.py:19: FutureWarning: The default value of numeric_only in DataFrame.mean is deprecated. In a future version, it will default to False. In addition, specifying 'numeric_only=None' is deprecated. Select only valid columns or specify the value of numeric_only to silence this warning.\n",
      "  sub = subjects[subjects.Subject==subId].mean().values.astype(np.uint8)\n",
      "/var/folders/rt/5cyl99fs6rg361lh42b5vlsh0000gn/T/ipykernel_78176/2084710537.py:19: FutureWarning: The default value of numeric_only in DataFrame.mean is deprecated. In a future version, it will default to False. In addition, specifying 'numeric_only=None' is deprecated. Select only valid columns or specify the value of numeric_only to silence this warning.\n",
      "  sub = subjects[subjects.Subject==subId].mean().values.astype(np.uint8)\n",
      "/var/folders/rt/5cyl99fs6rg361lh42b5vlsh0000gn/T/ipykernel_78176/2084710537.py:19: FutureWarning: The default value of numeric_only in DataFrame.mean is deprecated. In a future version, it will default to False. In addition, specifying 'numeric_only=None' is deprecated. Select only valid columns or specify the value of numeric_only to silence this warning.\n",
      "  sub = subjects[subjects.Subject==subId].mean().values.astype(np.uint8)\n"
     ]
    },
    {
     "name": "stderr",
     "output_type": "stream",
     "text": [
      "/var/folders/rt/5cyl99fs6rg361lh42b5vlsh0000gn/T/ipykernel_78176/2084710537.py:19: FutureWarning: The default value of numeric_only in DataFrame.mean is deprecated. In a future version, it will default to False. In addition, specifying 'numeric_only=None' is deprecated. Select only valid columns or specify the value of numeric_only to silence this warning.\n",
      "  sub = subjects[subjects.Subject==subId].mean().values.astype(np.uint8)\n",
      "/var/folders/rt/5cyl99fs6rg361lh42b5vlsh0000gn/T/ipykernel_78176/2084710537.py:19: FutureWarning: The default value of numeric_only in DataFrame.mean is deprecated. In a future version, it will default to False. In addition, specifying 'numeric_only=None' is deprecated. Select only valid columns or specify the value of numeric_only to silence this warning.\n",
      "  sub = subjects[subjects.Subject==subId].mean().values.astype(np.uint8)\n",
      "/var/folders/rt/5cyl99fs6rg361lh42b5vlsh0000gn/T/ipykernel_78176/2084710537.py:19: FutureWarning: The default value of numeric_only in DataFrame.mean is deprecated. In a future version, it will default to False. In addition, specifying 'numeric_only=None' is deprecated. Select only valid columns or specify the value of numeric_only to silence this warning.\n",
      "  sub = subjects[subjects.Subject==subId].mean().values.astype(np.uint8)\n",
      "/var/folders/rt/5cyl99fs6rg361lh42b5vlsh0000gn/T/ipykernel_78176/2084710537.py:19: FutureWarning: The default value of numeric_only in DataFrame.mean is deprecated. In a future version, it will default to False. In addition, specifying 'numeric_only=None' is deprecated. Select only valid columns or specify the value of numeric_only to silence this warning.\n",
      "  sub = subjects[subjects.Subject==subId].mean().values.astype(np.uint8)\n",
      "/var/folders/rt/5cyl99fs6rg361lh42b5vlsh0000gn/T/ipykernel_78176/2084710537.py:19: FutureWarning: The default value of numeric_only in DataFrame.mean is deprecated. In a future version, it will default to False. In addition, specifying 'numeric_only=None' is deprecated. Select only valid columns or specify the value of numeric_only to silence this warning.\n",
      "  sub = subjects[subjects.Subject==subId].mean().values.astype(np.uint8)\n",
      "/var/folders/rt/5cyl99fs6rg361lh42b5vlsh0000gn/T/ipykernel_78176/2084710537.py:19: FutureWarning: The default value of numeric_only in DataFrame.mean is deprecated. In a future version, it will default to False. In addition, specifying 'numeric_only=None' is deprecated. Select only valid columns or specify the value of numeric_only to silence this warning.\n",
      "  sub = subjects[subjects.Subject==subId].mean().values.astype(np.uint8)\n",
      "/var/folders/rt/5cyl99fs6rg361lh42b5vlsh0000gn/T/ipykernel_78176/2084710537.py:19: FutureWarning: The default value of numeric_only in DataFrame.mean is deprecated. In a future version, it will default to False. In addition, specifying 'numeric_only=None' is deprecated. Select only valid columns or specify the value of numeric_only to silence this warning.\n",
      "  sub = subjects[subjects.Subject==subId].mean().values.astype(np.uint8)\n",
      "/var/folders/rt/5cyl99fs6rg361lh42b5vlsh0000gn/T/ipykernel_78176/2084710537.py:19: FutureWarning: The default value of numeric_only in DataFrame.mean is deprecated. In a future version, it will default to False. In addition, specifying 'numeric_only=None' is deprecated. Select only valid columns or specify the value of numeric_only to silence this warning.\n",
      "  sub = subjects[subjects.Subject==subId].mean().values.astype(np.uint8)\n",
      "/var/folders/rt/5cyl99fs6rg361lh42b5vlsh0000gn/T/ipykernel_78176/2084710537.py:19: FutureWarning: The default value of numeric_only in DataFrame.mean is deprecated. In a future version, it will default to False. In addition, specifying 'numeric_only=None' is deprecated. Select only valid columns or specify the value of numeric_only to silence this warning.\n",
      "  sub = subjects[subjects.Subject==subId].mean().values.astype(np.uint8)\n",
      "/var/folders/rt/5cyl99fs6rg361lh42b5vlsh0000gn/T/ipykernel_78176/2084710537.py:19: FutureWarning: The default value of numeric_only in DataFrame.mean is deprecated. In a future version, it will default to False. In addition, specifying 'numeric_only=None' is deprecated. Select only valid columns or specify the value of numeric_only to silence this warning.\n",
      "  sub = subjects[subjects.Subject==subId].mean().values.astype(np.uint8)\n",
      "/var/folders/rt/5cyl99fs6rg361lh42b5vlsh0000gn/T/ipykernel_78176/2084710537.py:19: FutureWarning: The default value of numeric_only in DataFrame.mean is deprecated. In a future version, it will default to False. In addition, specifying 'numeric_only=None' is deprecated. Select only valid columns or specify the value of numeric_only to silence this warning.\n",
      "  sub = subjects[subjects.Subject==subId].mean().values.astype(np.uint8)\n",
      "/var/folders/rt/5cyl99fs6rg361lh42b5vlsh0000gn/T/ipykernel_78176/2084710537.py:19: FutureWarning: The default value of numeric_only in DataFrame.mean is deprecated. In a future version, it will default to False. In addition, specifying 'numeric_only=None' is deprecated. Select only valid columns or specify the value of numeric_only to silence this warning.\n",
      "  sub = subjects[subjects.Subject==subId].mean().values.astype(np.uint8)\n",
      "/var/folders/rt/5cyl99fs6rg361lh42b5vlsh0000gn/T/ipykernel_78176/2084710537.py:19: FutureWarning: The default value of numeric_only in DataFrame.mean is deprecated. In a future version, it will default to False. In addition, specifying 'numeric_only=None' is deprecated. Select only valid columns or specify the value of numeric_only to silence this warning.\n",
      "  sub = subjects[subjects.Subject==subId].mean().values.astype(np.uint8)\n",
      "/var/folders/rt/5cyl99fs6rg361lh42b5vlsh0000gn/T/ipykernel_78176/2084710537.py:19: FutureWarning: The default value of numeric_only in DataFrame.mean is deprecated. In a future version, it will default to False. In addition, specifying 'numeric_only=None' is deprecated. Select only valid columns or specify the value of numeric_only to silence this warning.\n",
      "  sub = subjects[subjects.Subject==subId].mean().values.astype(np.uint8)\n",
      "/var/folders/rt/5cyl99fs6rg361lh42b5vlsh0000gn/T/ipykernel_78176/2084710537.py:19: FutureWarning: The default value of numeric_only in DataFrame.mean is deprecated. In a future version, it will default to False. In addition, specifying 'numeric_only=None' is deprecated. Select only valid columns or specify the value of numeric_only to silence this warning.\n",
      "  sub = subjects[subjects.Subject==subId].mean().values.astype(np.uint8)\n",
      "/var/folders/rt/5cyl99fs6rg361lh42b5vlsh0000gn/T/ipykernel_78176/2084710537.py:19: FutureWarning: The default value of numeric_only in DataFrame.mean is deprecated. In a future version, it will default to False. In addition, specifying 'numeric_only=None' is deprecated. Select only valid columns or specify the value of numeric_only to silence this warning.\n",
      "  sub = subjects[subjects.Subject==subId].mean().values.astype(np.uint8)\n",
      "/var/folders/rt/5cyl99fs6rg361lh42b5vlsh0000gn/T/ipykernel_78176/2084710537.py:19: FutureWarning: The default value of numeric_only in DataFrame.mean is deprecated. In a future version, it will default to False. In addition, specifying 'numeric_only=None' is deprecated. Select only valid columns or specify the value of numeric_only to silence this warning.\n",
      "  sub = subjects[subjects.Subject==subId].mean().values.astype(np.uint8)\n",
      "/var/folders/rt/5cyl99fs6rg361lh42b5vlsh0000gn/T/ipykernel_78176/2084710537.py:19: FutureWarning: The default value of numeric_only in DataFrame.mean is deprecated. In a future version, it will default to False. In addition, specifying 'numeric_only=None' is deprecated. Select only valid columns or specify the value of numeric_only to silence this warning.\n",
      "  sub = subjects[subjects.Subject==subId].mean().values.astype(np.uint8)\n",
      "/var/folders/rt/5cyl99fs6rg361lh42b5vlsh0000gn/T/ipykernel_78176/2084710537.py:19: FutureWarning: The default value of numeric_only in DataFrame.mean is deprecated. In a future version, it will default to False. In addition, specifying 'numeric_only=None' is deprecated. Select only valid columns or specify the value of numeric_only to silence this warning.\n",
      "  sub = subjects[subjects.Subject==subId].mean().values.astype(np.uint8)\n",
      "/var/folders/rt/5cyl99fs6rg361lh42b5vlsh0000gn/T/ipykernel_78176/2084710537.py:19: FutureWarning: The default value of numeric_only in DataFrame.mean is deprecated. In a future version, it will default to False. In addition, specifying 'numeric_only=None' is deprecated. Select only valid columns or specify the value of numeric_only to silence this warning.\n",
      "  sub = subjects[subjects.Subject==subId].mean().values.astype(np.uint8)\n"
     ]
    },
    {
     "name": "stderr",
     "output_type": "stream",
     "text": [
      "/var/folders/rt/5cyl99fs6rg361lh42b5vlsh0000gn/T/ipykernel_78176/2084710537.py:19: FutureWarning: The default value of numeric_only in DataFrame.mean is deprecated. In a future version, it will default to False. In addition, specifying 'numeric_only=None' is deprecated. Select only valid columns or specify the value of numeric_only to silence this warning.\n",
      "  sub = subjects[subjects.Subject==subId].mean().values.astype(np.uint8)\n",
      "/var/folders/rt/5cyl99fs6rg361lh42b5vlsh0000gn/T/ipykernel_78176/2084710537.py:19: FutureWarning: The default value of numeric_only in DataFrame.mean is deprecated. In a future version, it will default to False. In addition, specifying 'numeric_only=None' is deprecated. Select only valid columns or specify the value of numeric_only to silence this warning.\n",
      "  sub = subjects[subjects.Subject==subId].mean().values.astype(np.uint8)\n",
      "/var/folders/rt/5cyl99fs6rg361lh42b5vlsh0000gn/T/ipykernel_78176/2084710537.py:19: FutureWarning: The default value of numeric_only in DataFrame.mean is deprecated. In a future version, it will default to False. In addition, specifying 'numeric_only=None' is deprecated. Select only valid columns or specify the value of numeric_only to silence this warning.\n",
      "  sub = subjects[subjects.Subject==subId].mean().values.astype(np.uint8)\n",
      "/var/folders/rt/5cyl99fs6rg361lh42b5vlsh0000gn/T/ipykernel_78176/2084710537.py:19: FutureWarning: The default value of numeric_only in DataFrame.mean is deprecated. In a future version, it will default to False. In addition, specifying 'numeric_only=None' is deprecated. Select only valid columns or specify the value of numeric_only to silence this warning.\n",
      "  sub = subjects[subjects.Subject==subId].mean().values.astype(np.uint8)\n",
      "/var/folders/rt/5cyl99fs6rg361lh42b5vlsh0000gn/T/ipykernel_78176/2084710537.py:19: FutureWarning: The default value of numeric_only in DataFrame.mean is deprecated. In a future version, it will default to False. In addition, specifying 'numeric_only=None' is deprecated. Select only valid columns or specify the value of numeric_only to silence this warning.\n",
      "  sub = subjects[subjects.Subject==subId].mean().values.astype(np.uint8)\n",
      "/var/folders/rt/5cyl99fs6rg361lh42b5vlsh0000gn/T/ipykernel_78176/2084710537.py:19: FutureWarning: The default value of numeric_only in DataFrame.mean is deprecated. In a future version, it will default to False. In addition, specifying 'numeric_only=None' is deprecated. Select only valid columns or specify the value of numeric_only to silence this warning.\n",
      "  sub = subjects[subjects.Subject==subId].mean().values.astype(np.uint8)\n"
     ]
    },
    {
     "data": {
      "text/plain": [
       "0"
      ]
     },
     "execution_count": 12,
     "metadata": {},
     "output_type": "execute_result"
    }
   ],
   "source": [
    "train_dfs = [read_csv_with_task(\"../tlvmc-parkinsons-freezing-gait-prediction/train/defog/\"+i)[train_cols+target_cols] for i in train_defog]\n",
    "train_val = [i[train_cols].values for i in train_dfs]\n",
    "train_tgt = [i[target_cols].values for i in train_dfs]\n",
    "del train_dfs\n",
    "gc.collect()"
   ]
  },
  {
   "cell_type": "code",
   "execution_count": 13,
   "id": "ed04367b",
   "metadata": {},
   "outputs": [
    {
     "data": {
      "text/plain": [
       "0"
      ]
     },
     "execution_count": 13,
     "metadata": {},
     "output_type": "execute_result"
    }
   ],
   "source": [
    "train_val = np.vstack(train_val)\n",
    "train_tsk = train_val[:,4].astype(np.uint8)\n",
    "train_tgt = np.vstack(train_tgt)\n",
    "gc.collect()"
   ]
  },
  {
   "cell_type": "code",
   "execution_count": 1,
   "id": "200cf689",
   "metadata": {},
   "outputs": [
    {
     "ename": "NameError",
     "evalue": "name 'feature_engineering' is not defined",
     "output_type": "error",
     "traceback": [
      "\u001b[0;31m---------------------------------------------------------------------------\u001b[0m",
      "\u001b[0;31mNameError\u001b[0m                                 Traceback (most recent call last)",
      "Cell \u001b[0;32mIn[1], line 2\u001b[0m\n\u001b[1;32m      1\u001b[0m defog_trans \u001b[38;5;241m=\u001b[39m [\u001b[38;5;28;01mNone\u001b[39;00m, \u001b[38;5;28;01mNone\u001b[39;00m, \u001b[38;5;28;01mNone\u001b[39;00m, \u001b[38;5;28;01mNone\u001b[39;00m, \u001b[38;5;28;01mNone\u001b[39;00m ,\u001b[38;5;28;01mNone\u001b[39;00m]\n\u001b[0;32m----> 2\u001b[0m train_val \u001b[38;5;241m=\u001b[39m \u001b[43mfeature_engineering\u001b[49m(train_val, defog_trans, target\u001b[38;5;241m=\u001b[39mtrain_tgt)\n",
      "\u001b[0;31mNameError\u001b[0m: name 'feature_engineering' is not defined"
     ]
    }
   ],
   "source": [
    "defog_trans = [None, None, None, None, None ,None]\n",
    "train_val = feature_engineering(train_val, defog_trans, target=train_tgt)"
   ]
  },
  {
   "cell_type": "code",
   "execution_count": null,
   "id": "cbdf6695",
   "metadata": {},
   "outputs": [],
   "source": [
    "train_val = train_val.astype(np.float16) # reduce memory\n",
    "gc.collect()\n",
    "defog_clf = [training(train_val,train_tgt[:,i],train_tsk) for i in range(len(target_cols))]"
   ]
  },
  {
   "cell_type": "code",
   "execution_count": null,
   "id": "b73df21e",
   "metadata": {},
   "outputs": [],
   "source": [
    "del train_val, train_tgt, train_defog, train_tsk\n",
    "gc.collect()"
   ]
  },
  {
   "cell_type": "code",
   "execution_count": 1,
   "id": "9bcd5c38",
   "metadata": {},
   "outputs": [
    {
     "ename": "NameError",
     "evalue": "name 'train_tdcsfog' is not defined",
     "output_type": "error",
     "traceback": [
      "\u001b[0;31m---------------------------------------------------------------------------\u001b[0m",
      "\u001b[0;31mNameError\u001b[0m                                 Traceback (most recent call last)",
      "Cell \u001b[0;32mIn[1], line 1\u001b[0m\n\u001b[0;32m----> 1\u001b[0m train_dfs \u001b[38;5;241m=\u001b[39m [read_csv_with_task(\u001b[38;5;124m\"\u001b[39m\u001b[38;5;124m/kaggle/input/tlvmc-parkinsons-freezing-gait-prediction/train/tdcsfog/\u001b[39m\u001b[38;5;124m\"\u001b[39m\u001b[38;5;241m+\u001b[39mi)[train_cols\u001b[38;5;241m+\u001b[39mtarget_cols] \u001b[38;5;28;01mfor\u001b[39;00m i \u001b[38;5;129;01min\u001b[39;00m \u001b[43mtrain_tdcsfog\u001b[49m]\n\u001b[1;32m      2\u001b[0m train_val \u001b[38;5;241m=\u001b[39m [i[train_cols]\u001b[38;5;241m.\u001b[39mvalues \u001b[38;5;28;01mfor\u001b[39;00m i \u001b[38;5;129;01min\u001b[39;00m train_dfs]\n\u001b[1;32m      3\u001b[0m train_tgt \u001b[38;5;241m=\u001b[39m [i[target_cols]\u001b[38;5;241m.\u001b[39mvalues \u001b[38;5;28;01mfor\u001b[39;00m i \u001b[38;5;129;01min\u001b[39;00m train_dfs]\n",
      "\u001b[0;31mNameError\u001b[0m: name 'train_tdcsfog' is not defined"
     ]
    }
   ],
   "source": [
    "train_dfs = [read_csv_with_task(\"../tlvmc-parkinsons-freezing-gait-prediction/train/tdcsfog/\"+i)[train_cols+target_cols] for i in train_tdcsfog]\n",
    "train_val = [i[train_cols].values for i in train_dfs]\n",
    "train_tgt = [i[target_cols].values for i in train_dfs]\n",
    "del train_dfs\n",
    "gc.collect()"
   ]
  },
  {
   "cell_type": "code",
   "execution_count": null,
   "id": "6d90ebca",
   "metadata": {},
   "outputs": [],
   "source": [
    "train_val = np.vstack(train_val)\n",
    "train_tsk = train_val[:,4].astype(np.uint8)\n",
    "train_tgt = np.vstack(train_tgt)\n",
    "gc.collect()"
   ]
  },
  {
   "cell_type": "code",
   "execution_count": null,
   "id": "dbbf888e",
   "metadata": {},
   "outputs": [],
   "source": [
    "tdcsfog_trans = [None, None, None, None, None, None]\n",
    "train_val = feature_engineering(train_val, tdcsfog_trans, target=train_tgt)"
   ]
  },
  {
   "cell_type": "code",
   "execution_count": null,
   "id": "11a7022e",
   "metadata": {},
   "outputs": [],
   "source": [
    "train_val = train_val.astype(np.float16) # reduce memory\n",
    "gc.collect()\n",
    "tdcsfog_clf = [training(train_val,train_tgt[:,i],train_tsk) for i in range(len(target_cols))]"
   ]
  },
  {
   "cell_type": "code",
   "execution_count": null,
   "id": "f0825403",
   "metadata": {},
   "outputs": [],
   "source": [
    "del train_val, train_tgt, train_tdcsfog, train_tsk\n",
    "gc.collect()"
   ]
  },
  {
   "cell_type": "code",
   "execution_count": null,
   "id": "eac8a73c",
   "metadata": {},
   "outputs": [],
   "source": [
    "test_dfs = [read_csv_with_task(\"/kaggle/input/tlvmc-parkinsons-freezing-gait-prediction/test/defog/\"+i)[train_cols] for i in test_defog]\n",
    "test_val = [i.values for i in test_dfs]\n",
    "gc.collect()"
   ]
  },
  {
   "cell_type": "code",
   "execution_count": null,
   "id": "9d0639e0",
   "metadata": {},
   "outputs": [],
   "source": []
  }
 ],
 "metadata": {
  "kernelspec": {
   "display_name": "Python 3 (ipykernel)",
   "language": "python",
   "name": "python3"
  },
  "language_info": {
   "codemirror_mode": {
    "name": "ipython",
    "version": 3
   },
   "file_extension": ".py",
   "mimetype": "text/x-python",
   "name": "python",
   "nbconvert_exporter": "python",
   "pygments_lexer": "ipython3",
   "version": "3.10.9"
  }
 },
 "nbformat": 4,
 "nbformat_minor": 5
}
