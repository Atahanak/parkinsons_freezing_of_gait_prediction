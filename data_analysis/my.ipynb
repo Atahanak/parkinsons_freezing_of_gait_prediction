{
 "cells": [
  {
   "cell_type": "code",
   "execution_count": 1,
   "id": "6f357cc8",
   "metadata": {},
   "outputs": [],
   "source": [
    "import pandas as pd\n",
    "import os\n",
    "from icecream import ic"
   ]
  },
  {
   "cell_type": "code",
   "execution_count": 2,
   "id": "73f11c9e",
   "metadata": {},
   "outputs": [],
   "source": [
    "class color:\n",
    "   PURPLE = '\\033[95m'\n",
    "   CYAN = '\\033[96m'\n",
    "   DARKCYAN = '\\033[36m'\n",
    "   BLUE = '\\033[94m'\n",
    "   GREEN = '\\033[92m'\n",
    "   YELLOW = '\\033[93m'\n",
    "   RED = '\\033[91m'\n",
    "   BOLD = '\\033[1m'\n",
    "   UNDERLINE = '\\033[4m'\n",
    "   END = '\\033[0m'"
   ]
  },
  {
   "cell_type": "code",
   "execution_count": 3,
   "id": "300d15a4",
   "metadata": {},
   "outputs": [
    {
     "name": "stdout",
     "output_type": "stream",
     "text": [
      "26.876835995740144\n",
      "              duration      \n",
      "                  mean count\n",
      "Task                        \n",
      "Rest1       178.256378    45\n",
      "Turning-DT   72.360219   137\n",
      "Rest2        60.590000    44\n",
      "Hotspot2     57.677015   130\n",
      "Hotspot2-C   57.270153    59\n",
      "Turning-ST   56.416672   137\n",
      "Turning-C    52.903918    61\n",
      "MB7          30.991477    65\n",
      "MB9          30.580231    65\n",
      "TUG-DT       22.462824   267\n",
      "MB8          21.458338    65\n",
      "Hotspot1     19.805146   130\n",
      "Hotspot1-C   19.661356    59\n",
      "TUG-C        19.021294   119\n",
      "4MW-C        18.444077    65\n",
      "4MW          16.742168   137\n",
      "TUG-ST       16.011014   278\n",
      "MB3-L        13.335517   120\n",
      "MB3-R        12.237815   124\n",
      "MB10         12.152212    66\n",
      "MB11         10.900179    67\n",
      "MB13          8.758779    68\n",
      "MB12          7.263586    70\n",
      "MB2a          6.845810    42\n",
      "MB2b          6.760318    66\n",
      "MB1           5.218015    67\n",
      "MB5           4.530712    66\n",
      "MB6-R         4.162885    61\n",
      "MB6-L         4.158355    62\n",
      "MB6           4.023333     6\n",
      "MB4           3.902638    69\n"
     ]
    }
   ],
   "source": [
    "with open(\"../../tlvmc-parkinsons-freezing-gait-prediction/tasks.csv\") as file:\n",
    "    dt = pd.read_csv(file)\n",
    "    # create a new dataframe column by take the difference between begin and end columns\n",
    "    dt['duration'] = dt['End'] - dt['Begin']\n",
    "    # take the mean of the duration column\n",
    "    mean = dt['duration'].mean()\n",
    "    print(mean)\n",
    "    # create a new dataframe by grouping each task according to their mean duration and also count \n",
    "    dt = dt.groupby('Task').agg({'duration': ['mean', 'count']})\n",
    "    # sort dt by mean duration\n",
    "    dt = dt.sort_values(by=[('duration', 'mean')], ascending=False)\n",
    "    print(dt)"
   ]
  },
  {
   "cell_type": "code",
   "execution_count": 28,
   "id": "ed528335",
   "metadata": {},
   "outputs": [
    {
     "name": "stdout",
     "output_type": "stream",
     "text": [
      "              Id        Init  Completion     Type  Kinetic  duration\n",
      "0     003f117e14     8.61312     14.7731     Turn      1.0   6.15998\n",
      "1     009ee11563    11.38470     41.1847     Turn      1.0  29.80000\n",
      "2     009ee11563    54.66470     58.7847     Turn      1.0   4.12000\n",
      "3     011322847a    28.09660     30.2966     Turn      1.0   2.20000\n",
      "4     01d0fe7266    30.31840     31.8784     Turn      1.0   1.56000\n",
      "...          ...         ...         ...      ...      ...       ...\n",
      "3707  f9fc61ce85   628.56000    631.6650  Walking      0.0   3.10500\n",
      "3708  f9fc61ce85   782.49800    782.6530  Walking      1.0   0.15500\n",
      "3709  f9fc61ce85   931.93900    933.4470     Turn      1.0   1.50800\n",
      "3710  f9fc61ce85   990.85900    991.8580     Turn      0.0   0.99900\n",
      "3711  f9fc61ce85  1180.46700   1181.2580     Turn      1.0   0.79100\n",
      "\n",
      "[3712 rows x 6 columns]\n",
      "[18949.98745  2609.41598  2390.72793]\n",
      "[0.18531551 1.34579023 1.46889426] 3.0\n",
      "                    duration      \n",
      "                         sum count\n",
      "Type                              \n",
      "Turn             18949.98745  2147\n",
      "Walking           2609.41598   415\n",
      "StartHesitation   2390.72793   107\n"
     ]
    }
   ],
   "source": [
    "# open events.csv file read it and store it in a dataframe\n",
    "with open(\"../../tlvmc-parkinsons-freezing-gait-prediction/events.csv\") as file:\n",
    "    df = pd.read_csv(file)\n",
    "    # create a new dataframe column by take the difference between begin and end columns\n",
    "    df['duration'] = df['Completion'] - df['Init']\n",
    "    # take the mean of the duration column\n",
    "    mean = df['duration'].mean()\n",
    "    print(df)\n",
    "    # create a new dataframe by grouping each task according to their mean duration and also count \n",
    "    df = df.groupby('Type').agg({'duration': ['sum', 'count']})\n",
    "    # sort dt by mean duration\n",
    "    df = df.sort_values(by=[('duration', 'sum')], ascending=False)\n",
    "    # get numpy array of duration sum inversely scaled between 0 and 1\n",
    "    counts = df[('duration', 'sum')].values\n",
    "    print(counts)\n",
    "    counts = 1 / counts # inverse scale\n",
    "    counts = counts / counts.sum() * 3 # normalize\n",
    "    print(counts, counts.sum())\n",
    "    print(df)"
   ]
  },
  {
   "cell_type": "code",
   "execution_count": 21,
   "id": "d3797223",
   "metadata": {},
   "outputs": [
    {
     "name": "stdout",
     "output_type": "stream",
     "text": [
      "            Id Subject  Visit Beginning of recording [00:00-23:59]\n",
      "0   00c4c9313d  3d8b73      1                                10:19\n",
      "1   07a96f89ec  a15b56      1                                07:30\n",
      "2   0d1bc672a8  21e523      2                                08:30\n",
      "3   0e333c9833  b068a2      1                                11:30\n",
      "4   164adaed7b  ffa798      1                                13:00\n",
      "..         ...     ...    ...                                  ...\n",
      "60  e658b0aa3d  b7bd52      1                                08:00\n",
      "61  ed0a487f20  268a2e      1                                12:30\n",
      "62  ef1db3ca64  473568      1                                08:00\n",
      "63  f16c5cda55  b6a627      1                                08:30\n",
      "64  f3fa3bf72d  6ec6ba      1                                08:00\n",
      "\n",
      "[65 rows x 4 columns]\n"
     ]
    }
   ],
   "source": [
    "with open(\"../../tlvmc-parkinsons-freezing-gait-prediction/daily_metadata.csv\") as file:\n",
    "    dt = pd.read_csv(file)\n",
    "    print(dt)"
   ]
  },
  {
   "cell_type": "code",
   "execution_count": 22,
   "id": "041cc486",
   "metadata": {},
   "outputs": [
    {
     "name": "stdout",
     "output_type": "stream",
     "text": [
      "    Subject  Visit  Age Sex  YearsSinceDx  UPDRSIII_On  UPDRSIII_Off  NFOGQ\n",
      "0    04fcdb    1.0   63   M           3.0         30.0           NaN      0\n",
      "1    05595e    1.0   56   M           8.0         28.0           NaN      0\n",
      "2    0967b2    1.0   59   M          10.0         38.0          48.0     19\n",
      "3    0967b2    2.0   59   M          10.0         37.0          44.0     13\n",
      "4    097078    NaN   70   F          10.0         27.0          50.0     20\n",
      "..      ...    ...  ...  ..           ...          ...           ...    ...\n",
      "168  f90887    1.0   72   M          16.0         35.0          46.0     26\n",
      "169  fc1e1b    1.0   82   F          11.0         38.0          42.0     21\n",
      "170  fe5d84    2.0   72   M          14.0         32.0          45.0     17\n",
      "171  fe5d84    1.0   72   F          14.0         13.0          33.0     15\n",
      "172  ffa798    1.0   55   F           9.0         14.0           NaN      0\n",
      "\n",
      "[173 rows x 8 columns]\n"
     ]
    }
   ],
   "source": [
    "with open(\"../../tlvmc-parkinsons-freezing-gait-prediction/subjects.csv\") as file:\n",
    "    dt = pd.read_csv(file)\n",
    "    print(dt)"
   ]
  },
  {
   "cell_type": "code",
   "execution_count": 38,
   "id": "6a41c94f",
   "metadata": {},
   "outputs": [],
   "source": [
    "def get_data_amount(folder):\n",
    "    files = os.listdir(folder)\n",
    "    ic(\n",
    "        folder, len(files)\n",
    "    )\n",
    "\n",
    "    #df_all = pd.DataFrame()\n",
    "    total = 0\n",
    "    for fname in files:\n",
    "        if fname.endswith(\".parquet\"):\n",
    "            df = pd.read_parquet(f\"{folder}/{fname}\")\n",
    "        else:\n",
    "            df = pd.read_csv(f\"{folder}/{fname}\")\n",
    "        rows = len(df.index) \n",
    "        #ic(f\"{fname} number of rows {rows}\")\n",
    "        total += rows\n",
    "        #df_all = pd.concat([df_all, df])\n",
    "\n",
    "    return total\n"
   ]
  },
  {
   "cell_type": "code",
   "execution_count": 34,
   "id": "f52aee2b",
   "metadata": {},
   "outputs": [
    {
     "name": "stderr",
     "output_type": "stream",
     "text": [
      "ic| f\"Number of files in {folder}: {color.BLUE}{temp}{color.END}\": ('Number of files in ../tlvmc-parkinsons-freezing-gait-prediction/train/defog: '\n",
      "                                                                    '\\x1b[94m91\\x1b[0m')\n",
      "ic| get_data_amount(\"../tlvmc-parkinsons-freezing-gait-prediction/train/defog\"): 13525702\n",
      "ic| f\"Number of files in {folder}: {color.BLUE}{temp}{color.END}\": ('Number of files in '\n",
      "                                                                    '../tlvmc-parkinsons-freezing-gait-prediction/train/tdcsfog: '\n",
      "                                                                    '\\x1b[94m833\\x1b[0m')\n",
      "ic| get_data_amount(\"../tlvmc-parkinsons-freezing-gait-prediction/train/tdcsfog\"): 7062672\n",
      "ic| f\"Number of files in {folder}: {color.BLUE}{temp}{color.END}\": ('Number of files in ../tlvmc-parkinsons-freezing-gait-prediction/unlabeled: '\n",
      "                                                                    '\\x1b[94m65\\x1b[0m')\n",
      "ic| get_data_amount(\"../tlvmc-parkinsons-freezing-gait-prediction/unlabeled\"): 4220701887\n"
     ]
    },
    {
     "data": {
      "text/plain": [
       "4220701887"
      ]
     },
     "execution_count": 34,
     "metadata": {},
     "output_type": "execute_result"
    }
   ],
   "source": [
    "ic(get_data_amount(\"../../tlvmc-parkinsons-freezing-gait-prediction/train/defog\"))\n",
    "ic(get_data_amount(\"../../tlvmc-parkinsons-freezing-gait-prediction/train/tdcsfog\"))\n",
    "ic(get_data_amount(\"../../tlvmc-parkinsons-freezing-gait-prediction/unlabeled\"))"
   ]
  },
  {
   "cell_type": "code",
   "execution_count": 10,
   "id": "bece47c0",
   "metadata": {},
   "outputs": [
    {
     "name": "stdout",
     "output_type": "stream",
     "text": [
      "['../../tlvmc-parkinsons-freezing-gait-prediction/train/notype/b77b68675d.csv', '../../tlvmc-parkinsons-freezing-gait-prediction/train/notype/8228c6fdee.csv', '../../tlvmc-parkinsons-freezing-gait-prediction/train/notype/296c84448e.csv', '../../tlvmc-parkinsons-freezing-gait-prediction/train/notype/2ea5e817f4.csv', '../../tlvmc-parkinsons-freezing-gait-prediction/train/notype/285c2210b3.csv', '../../tlvmc-parkinsons-freezing-gait-prediction/train/notype/71dd8ce20d.csv', '../../tlvmc-parkinsons-freezing-gait-prediction/train/notype/2054f1d5df.csv', '../../tlvmc-parkinsons-freezing-gait-prediction/train/notype/72853af746.csv', '../../tlvmc-parkinsons-freezing-gait-prediction/train/notype/3f02fa6e40.csv', '../../tlvmc-parkinsons-freezing-gait-prediction/train/notype/60dfb26b2c.csv', '../../tlvmc-parkinsons-freezing-gait-prediction/train/notype/816bd20e5d.csv', '../../tlvmc-parkinsons-freezing-gait-prediction/train/notype/dd589529b5.csv', '../../tlvmc-parkinsons-freezing-gait-prediction/train/notype/36ad8ae06d.csv', '../../tlvmc-parkinsons-freezing-gait-prediction/train/notype/2cc3c30645.csv', '../../tlvmc-parkinsons-freezing-gait-prediction/train/notype/6614bf9767.csv', '../../tlvmc-parkinsons-freezing-gait-prediction/train/notype/8ea7ae7254.csv', '../../tlvmc-parkinsons-freezing-gait-prediction/train/notype/b1f5aa1b77.csv', '../../tlvmc-parkinsons-freezing-gait-prediction/train/notype/9506859311.csv', '../../tlvmc-parkinsons-freezing-gait-prediction/train/notype/2acdf5a450.csv', '../../tlvmc-parkinsons-freezing-gait-prediction/train/notype/89e9ed32d1.csv', '../../tlvmc-parkinsons-freezing-gait-prediction/train/notype/ae96bee4b5.csv', '../../tlvmc-parkinsons-freezing-gait-prediction/train/notype/847ebc0a8d.csv', '../../tlvmc-parkinsons-freezing-gait-prediction/train/notype/1b3bc93401.csv', '../../tlvmc-parkinsons-freezing-gait-prediction/train/notype/9cd837fd53.csv', '../../tlvmc-parkinsons-freezing-gait-prediction/train/notype/affdf8553f.csv', '../../tlvmc-parkinsons-freezing-gait-prediction/train/notype/af02b83cbf.csv', '../../tlvmc-parkinsons-freezing-gait-prediction/train/notype/9e75dbc817.csv', '../../tlvmc-parkinsons-freezing-gait-prediction/train/notype/339c0cc15f.csv', '../../tlvmc-parkinsons-freezing-gait-prediction/train/notype/434732a5e3.csv', '../../tlvmc-parkinsons-freezing-gait-prediction/train/notype/39a74dc6d5.csv', '../../tlvmc-parkinsons-freezing-gait-prediction/train/notype/02ab235146.csv', '../../tlvmc-parkinsons-freezing-gait-prediction/train/notype/0a900ed8a2.csv', '../../tlvmc-parkinsons-freezing-gait-prediction/train/notype/60f28aa837.csv', '../../tlvmc-parkinsons-freezing-gait-prediction/train/notype/e5a0e226fe.csv', '../../tlvmc-parkinsons-freezing-gait-prediction/train/notype/34b979fc28.csv', '../../tlvmc-parkinsons-freezing-gait-prediction/train/notype/1e8d55d48d.csv', '../../tlvmc-parkinsons-freezing-gait-prediction/train/notype/6a18e3751f.csv', '../../tlvmc-parkinsons-freezing-gait-prediction/train/notype/46cdfe23ea.csv', '../../tlvmc-parkinsons-freezing-gait-prediction/train/notype/d2ecd51a66.csv', '../../tlvmc-parkinsons-freezing-gait-prediction/train/notype/6214414fff.csv', '../../tlvmc-parkinsons-freezing-gait-prediction/train/notype/6a886a3bb8.csv', '../../tlvmc-parkinsons-freezing-gait-prediction/train/notype/e8e530a4f9.csv', '../../tlvmc-parkinsons-freezing-gait-prediction/train/notype/ad8e83242a.csv', '../../tlvmc-parkinsons-freezing-gait-prediction/train/notype/c816aa3562.csv', '../../tlvmc-parkinsons-freezing-gait-prediction/train/notype/cb82000108.csv', '../../tlvmc-parkinsons-freezing-gait-prediction/train/notype/aaeaa345e6.csv']\n"
     ]
    },
    {
     "data": {
      "text/plain": [
       "array([10251114,  6832879])"
      ]
     },
     "execution_count": 10,
     "metadata": {},
     "output_type": "execute_result"
    }
   ],
   "source": [
    "import glob\n",
    "import tqdm\n",
    "import numpy as np\n",
    "import pandas as pd\n",
    "def event_analysis(folder_name):\n",
    "    files = glob.glob(f\"../../tlvmc-parkinsons-freezing-gait-prediction/train/{folder_name}/*.csv\")\n",
    "    print(files)\n",
    "    events = []\n",
    "    for f in files:\n",
    "        df = pd.read_csv(f)\n",
    "        # get the number of rows in the dataframe\n",
    "        rows = len(df.index)\n",
    "        # produce a list of sum of the columns 5, 6, 7\n",
    "        event = df.iloc[:, 5:8].sum().values\n",
    "        events.append((rows, sum(event)))\n",
    "        total = np.array(events).sum(axis=0)\n",
    "    return total\n",
    "events = event_analysis(\"notype\")\n",
    "# reduce the list of tuples to a single tuple by summing the first and seconc columns\n",
    "\n",
    "events\n"
   ]
  },
  {
   "cell_type": "code",
   "execution_count": 39,
   "id": "dc4d4066",
   "metadata": {},
   "outputs": [
    {
     "name": "stderr",
     "output_type": "stream",
     "text": [
      "ic| folder: '../tlvmc-parkinsons-freezing-gait-prediction/train/notype'\n",
      "    len(files): 46\n",
      "ic| get_data_amount(\"../tlvmc-parkinsons-freezing-gait-prediction/train/notype\"): 10251114\n"
     ]
    },
    {
     "data": {
      "text/plain": [
       "10251114"
      ]
     },
     "execution_count": 39,
     "metadata": {},
     "output_type": "execute_result"
    }
   ],
   "source": [
    "ic(get_data_amount(\"../tlvmc-parkinsons-freezing-gait-prediction/train/notype\"))"
   ]
  }
 ],
 "metadata": {
  "kernelspec": {
   "display_name": "Python 3 (ipykernel)",
   "language": "python",
   "name": "python3"
  },
  "language_info": {
   "codemirror_mode": {
    "name": "ipython",
    "version": 3
   },
   "file_extension": ".py",
   "mimetype": "text/x-python",
   "name": "python",
   "nbconvert_exporter": "python",
   "pygments_lexer": "ipython3",
   "version": "3.10.9"
  }
 },
 "nbformat": 4,
 "nbformat_minor": 5
}
